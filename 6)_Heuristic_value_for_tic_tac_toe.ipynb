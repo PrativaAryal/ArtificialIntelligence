{
  "nbformat": 4,
  "nbformat_minor": 0,
  "metadata": {
    "colab": {
      "provenance": [],
      "authorship_tag": "ABX9TyMx/Afw4/LlMtCYR8/Z9UD9",
      "include_colab_link": true
    },
    "kernelspec": {
      "name": "python3",
      "display_name": "Python 3"
    },
    "language_info": {
      "name": "python"
    }
  },
  "cells": [
    {
      "cell_type": "markdown",
      "metadata": {
        "id": "view-in-github",
        "colab_type": "text"
      },
      "source": [
        "<a href=\"https://colab.research.google.com/github/nandaniluitel/LabSheetIII/blob/new-branch-name/6)_Heuristic_value_for_tic_tac_toe.ipynb\" target=\"_parent\"><img src=\"https://colab.research.google.com/assets/colab-badge.svg\" alt=\"Open In Colab\"/></a>"
      ]
    },
    {
      "cell_type": "code",
      "execution_count": null,
      "metadata": {
        "id": "gxeMo8A6e8si"
      },
      "outputs": [],
      "source": [
        "def calculate_heuristic(start_state, goal_state):\n",
        "    \"\"\"\n",
        "    Calculates the heuristic value of the start state compared to the goal state.\n",
        "\n",
        "    Args:\n",
        "        start_state (list): A list of stacks representing the current state.\n",
        "        goal_state (list): A list of stacks representing the goal state.\n",
        "\n",
        "    Returns:\n",
        "        int: The heuristic value of the state.\n",
        "    \"\"\"\n",
        "    heuristic = 0\n",
        "    for stack_index, goal_stack in enumerate(goal_state):\n",
        "        for i, block in enumerate(goal_stack):\n",
        "            if stack_index < len(start_state) and i < len(start_state[stack_index]):\n",
        "                if start_state[stack_index][i] == block:\n",
        "                    heuristic += 1\n",
        "                else:\n",
        "                    heuristic -= 1\n",
        "            else:\n",
        "                heuristic -= 1\n",
        "    return heuristic\n",
        "\n",
        "\n",
        "# Example usage\n",
        "start_state = [\n",
        "    ['A'],  # Stack 1\n",
        "    ['D'],  # Stack 2\n",
        "    ['C'],  # Stack 3\n",
        "    ['B']   # Stack 4\n",
        "]\n",
        "\n",
        "goal_state = [\n",
        "    ['D'],  # Stack 1\n",
        "    ['C'],  # Stack 2\n",
        "    ['B'],  # Stack 3\n",
        "    ['A']   # Stack 4\n",
        "]\n",
        "\n",
        "heuristic_value = calculate_heuristic(start_state, goal_state)\n",
        "print(\"Heuristic Value:\", heuristic_value)"
      ]
    }
  ]
}