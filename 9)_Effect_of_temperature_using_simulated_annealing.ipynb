{
  "nbformat": 4,
  "nbformat_minor": 0,
  "metadata": {
    "colab": {
      "provenance": [],
      "authorship_tag": "ABX9TyOwzsvGut2eTwRM8U1M4KBu",
      "include_colab_link": true
    },
    "kernelspec": {
      "name": "python3",
      "display_name": "Python 3"
    },
    "language_info": {
      "name": "python"
    }
  },
  "cells": [
    {
      "cell_type": "markdown",
      "metadata": {
        "id": "view-in-github",
        "colab_type": "text"
      },
      "source": [
        "<a href=\"https://colab.research.google.com/github/nandaniluitel/LabSheetIII/blob/new-branch-name/9)_Effect_of_temperature_using_simulated_annealing.ipynb\" target=\"_parent\"><img src=\"https://colab.research.google.com/assets/colab-badge.svg\" alt=\"Open In Colab\"/></a>"
      ]
    },
    {
      "cell_type": "code",
      "execution_count": null,
      "metadata": {
        "id": "9IQlaYXNiACH"
      },
      "outputs": [],
      "source": [
        "import math\n",
        "import random\n",
        "import matplotlib.pyplot as plt\n",
        "\n",
        "# Define the objective function (e.g., a simple quadratic function)\n",
        "def objective_function(x):\n",
        "    return x**2 - 10*x + 25  # This is a parabola with a minimum at x = 5\n",
        "\n",
        "# Simulated Annealing algorithm\n",
        "def simulated_annealing(initial_state, initial_temp, cooling_rate, iterations):\n",
        "    current_state = initial_state\n",
        "    current_value = objective_function(current_state)\n",
        "    states = [current_state]\n",
        "    values = [current_value]\n",
        "\n",
        "    for i in range(iterations):\n",
        "        temperature = initial_temp * (cooling_rate ** i)  # Temperature schedule\n",
        "        new_state = current_state + random.uniform(-1, 1)  # Random move\n",
        "        new_value = objective_function(new_state)\n",
        "\n",
        "        # Accept the new state with some probability\n",
        "        if new_value < current_value:\n",
        "            current_state = new_state\n",
        "            current_value = new_value\n",
        "        else:\n",
        "            probability = math.exp((current_value - new_value) / temperature)\n",
        "            if random.random() < probability:\n",
        "                current_state = new_state\n",
        "                current_value = new_value\n",
        "\n",
        "        states.append(current_state)\n",
        "        values.append(current_value)\n",
        "\n",
        "    return states, values\n",
        "\n",
        "# Parameters for the simulated annealing\n",
        "initial_state = 0  # Initial guess\n",
        "initial_temp = 100  # Starting temperature\n",
        "cooling_rate = 0.99  # Cooling rate (temperature decay)\n",
        "iterations = 100  # Number of iterations\n",
        "\n",
        "# Run the simulated annealing\n",
        "states, values = simulated_annealing(initial_state, initial_temp, cooling_rate, iterations)\n",
        "\n",
        "# Plot the results\n",
        "plt.plot(states, values)\n",
        "plt.xlabel(\"State (x)\")\n",
        "plt.ylabel(\"Objective Value\")\n",
        "plt.title(\"Simulated Annealing: Effect of Temperature on Inferior Node Selection\")\n",
        "plt.show()\n"
      ]
    }
  ]
}